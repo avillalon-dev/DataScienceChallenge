{
 "cells": [
  {
   "cell_type": "markdown",
   "metadata": {},
   "source": [
    "# ML FizzBuzz Test\n",
    "\n",
    "This notebook represents a machine learning test to classify natural numbers into four classes: “None”, “Fizz”, “Buzz”, and “FizzBuzz”."
   ]
  },
  {
   "cell_type": "code",
   "execution_count": 22,
   "metadata": {},
   "outputs": [],
   "source": [
    "# Import general packages\n",
    "import os\n",
    "import pandas as pd\n",
    "import numpy as np\n",
    "from numpy import ndarray\n",
    "\n",
    "# Ignore deprecation warnings\n",
    "import warnings\n",
    "warnings.filterwarnings('ignore', category=DeprecationWarning)\n",
    "warnings.filterwarnings('ignore', category=FutureWarning)\n",
    "\n",
    "# Local package created to provide clean code\n",
    "from fizzbuzz_classification.data_loader import DataLoader\n",
    "from fizzbuzz_classification.data_visualizer import plot_features"
   ]
  },
  {
   "cell_type": "markdown",
   "metadata": {},
   "source": [
    "## Data understanding"
   ]
  },
  {
   "cell_type": "markdown",
   "metadata": {},
   "source": [
    "### Data collection\n",
    "\n",
    "The dataset was created by generating natural numbers and label them according to an specific criteria. The dataset consists of one file with two columns: one for the number and another one for the label.\n",
    "\n",
    "The following code read data from the file and verifies if data satifies the problem description and requirements.\n",
    "\n",
    "- Natural numbers\n",
    "- 4 Labels: “None”, “Fizz”, “Buzz”, and “FizzBuzz”"
   ]
  },
  {
   "cell_type": "code",
   "execution_count": 23,
   "metadata": {},
   "outputs": [
    {
     "name": "stdout",
     "output_type": "stream",
     "text": [
      "<class 'pandas.core.frame.DataFrame'>\n",
      "RangeIndex: 100 entries, 0 to 99\n",
      "Data columns (total 2 columns):\n",
      " #   Column  Non-Null Count  Dtype \n",
      "---  ------  --------------  ----- \n",
      " 0   number  100 non-null    int64 \n",
      " 1   label   100 non-null    object\n",
      "dtypes: int64(1), object(1)\n",
      "memory usage: 1.7+ KB\n"
     ]
    },
    {
     "data": {
      "text/plain": [
       "None"
      ]
     },
     "metadata": {},
     "output_type": "display_data"
    },
    {
     "name": "stdout",
     "output_type": "stream",
     "text": [
      "Labels: ['None' 'Fizz' 'Buzz' 'FizzBuzz']\n"
     ]
    },
    {
     "data": {
      "text/html": [
       "<div>\n",
       "<style scoped>\n",
       "    .dataframe tbody tr th:only-of-type {\n",
       "        vertical-align: middle;\n",
       "    }\n",
       "\n",
       "    .dataframe tbody tr th {\n",
       "        vertical-align: top;\n",
       "    }\n",
       "\n",
       "    .dataframe thead th {\n",
       "        text-align: right;\n",
       "    }\n",
       "</style>\n",
       "<table border=\"1\" class=\"dataframe\">\n",
       "  <thead>\n",
       "    <tr style=\"text-align: right;\">\n",
       "      <th></th>\n",
       "      <th>number</th>\n",
       "      <th>label</th>\n",
       "    </tr>\n",
       "  </thead>\n",
       "  <tbody>\n",
       "    <tr>\n",
       "      <th>0</th>\n",
       "      <td>1</td>\n",
       "      <td>None</td>\n",
       "    </tr>\n",
       "    <tr>\n",
       "      <th>1</th>\n",
       "      <td>2</td>\n",
       "      <td>None</td>\n",
       "    </tr>\n",
       "    <tr>\n",
       "      <th>2</th>\n",
       "      <td>3</td>\n",
       "      <td>Fizz</td>\n",
       "    </tr>\n",
       "    <tr>\n",
       "      <th>3</th>\n",
       "      <td>4</td>\n",
       "      <td>None</td>\n",
       "    </tr>\n",
       "    <tr>\n",
       "      <th>4</th>\n",
       "      <td>5</td>\n",
       "      <td>Buzz</td>\n",
       "    </tr>\n",
       "  </tbody>\n",
       "</table>\n",
       "</div>"
      ],
      "text/plain": [
       "   number label\n",
       "0       1  None\n",
       "1       2  None\n",
       "2       3  Fizz\n",
       "3       4  None\n",
       "4       5  Buzz"
      ]
     },
     "metadata": {},
     "output_type": "display_data"
    }
   ],
   "source": [
    "# Load and preprocess the data\n",
    "loader = DataLoader()\n",
    "set_length = 100\n",
    "loader.generate_data(set_length)\n",
    "df_data = loader.load_data('original', set_length)\n",
    "\n",
    "display(df_data.info())\n",
    "labels = df_data['label'].unique()\n",
    "print(f'Labels: {labels}')\n",
    "display(df_data.head(5))"
   ]
  },
  {
   "cell_type": "markdown",
   "metadata": {},
   "source": [
    "### Exploratory data analysis (EDA)\n",
    "\n",
    "Perform exploratory data analysis (EDA) to understand the distribution, relationships, and patterns in the data. Visualizations can help identify insights and guide feature engineering."
   ]
  },
  {
   "cell_type": "code",
   "execution_count": 24,
   "metadata": {},
   "outputs": [
    {
     "name": "stdout",
     "output_type": "stream",
     "text": [
      "Dataset Summary:\n"
     ]
    },
    {
     "data": {
      "text/html": [
       "<div>\n",
       "<style scoped>\n",
       "    .dataframe tbody tr th:only-of-type {\n",
       "        vertical-align: middle;\n",
       "    }\n",
       "\n",
       "    .dataframe tbody tr th {\n",
       "        vertical-align: top;\n",
       "    }\n",
       "\n",
       "    .dataframe thead th {\n",
       "        text-align: right;\n",
       "    }\n",
       "</style>\n",
       "<table border=\"1\" class=\"dataframe\">\n",
       "  <thead>\n",
       "    <tr style=\"text-align: right;\">\n",
       "      <th></th>\n",
       "      <th>number</th>\n",
       "    </tr>\n",
       "  </thead>\n",
       "  <tbody>\n",
       "    <tr>\n",
       "      <th>count</th>\n",
       "      <td>100.000000</td>\n",
       "    </tr>\n",
       "    <tr>\n",
       "      <th>mean</th>\n",
       "      <td>50.500000</td>\n",
       "    </tr>\n",
       "    <tr>\n",
       "      <th>std</th>\n",
       "      <td>29.011492</td>\n",
       "    </tr>\n",
       "    <tr>\n",
       "      <th>min</th>\n",
       "      <td>1.000000</td>\n",
       "    </tr>\n",
       "    <tr>\n",
       "      <th>25%</th>\n",
       "      <td>25.750000</td>\n",
       "    </tr>\n",
       "    <tr>\n",
       "      <th>50%</th>\n",
       "      <td>50.500000</td>\n",
       "    </tr>\n",
       "    <tr>\n",
       "      <th>75%</th>\n",
       "      <td>75.250000</td>\n",
       "    </tr>\n",
       "    <tr>\n",
       "      <th>max</th>\n",
       "      <td>100.000000</td>\n",
       "    </tr>\n",
       "  </tbody>\n",
       "</table>\n",
       "</div>"
      ],
      "text/plain": [
       "           number\n",
       "count  100.000000\n",
       "mean    50.500000\n",
       "std     29.011492\n",
       "min      1.000000\n",
       "25%     25.750000\n",
       "50%     50.500000\n",
       "75%     75.250000\n",
       "max    100.000000"
      ]
     },
     "metadata": {},
     "output_type": "display_data"
    },
    {
     "name": "stdout",
     "output_type": "stream",
     "text": [
      "Labels distribution\n",
      "label\n",
      "None        53\n",
      "Fizz        27\n",
      "Buzz        14\n",
      "FizzBuzz     6\n",
      "dtype: int64\n"
     ]
    }
   ],
   "source": [
    "# Print a summary of the dataset\n",
    "print(\"Dataset Summary:\")\n",
    "display(df_data.describe())\n",
    "print(\"Labels distribution\")\n",
    "labels_count = df_data.groupby('label').size()\n",
    "labels_count = labels_count.sort_values(ascending = False)\n",
    "print(labels_count)"
   ]
  },
  {
   "cell_type": "markdown",
   "metadata": {},
   "source": [
    "The labels distribution indicates a high imbalance. Therefore, while training, this problem must be considered."
   ]
  },
  {
   "cell_type": "markdown",
   "metadata": {},
   "source": [
    " It is important to remark that, since the data is self-generated, there is no missing data, outliers or other problems that could arise from real data. Therefore, skills to overcome these problems are not tested here. However some plotting skills are used in order to get a visual representation of the data in order to extract some features."
   ]
  },
  {
   "cell_type": "code",
   "execution_count": 25,
   "metadata": {},
   "outputs": [
    {
     "ename": "FutureWarning",
     "evalue": "is_categorical_dtype is deprecated and will be removed in a future version. Use isinstance(dtype, CategoricalDtype) instead",
     "output_type": "error",
     "traceback": [
      "\u001b[1;31m---------------------------------------------------------------------------\u001b[0m",
      "\u001b[1;31mFutureWarning\u001b[0m                             Traceback (most recent call last)",
      "Cell \u001b[1;32mIn[25], line 2\u001b[0m\n\u001b[0;32m      1\u001b[0m \u001b[39m# Plot data features by label\u001b[39;00m\n\u001b[1;32m----> 2\u001b[0m plot_features(df_data)\n",
      "File \u001b[1;32md:\\projects\\cubanengineer\\TechnicalTest\\DataScienceChallenge\\MLClassification\\fizzbuzz_classification\\data_visualizer.py:11\u001b[0m, in \u001b[0;36mplot_features\u001b[1;34m(data)\u001b[0m\n\u001b[0;32m      8\u001b[0m \u001b[39mdef\u001b[39;00m \u001b[39mplot_features\u001b[39m(data: pd\u001b[39m.\u001b[39mDataFrame):\n\u001b[0;32m      9\u001b[0m     \u001b[39m# Plot features using seaborn\u001b[39;00m\n\u001b[0;32m     10\u001b[0m     plt\u001b[39m.\u001b[39mfigure()  \n\u001b[1;32m---> 11\u001b[0m     sns\u001b[39m.\u001b[39;49mpairplot(data, hue\u001b[39m=\u001b[39;49m\u001b[39m'\u001b[39;49m\u001b[39mlabel\u001b[39;49m\u001b[39m'\u001b[39;49m)\n\u001b[0;32m     13\u001b[0m     \u001b[39mtry\u001b[39;00m:\n\u001b[0;32m     14\u001b[0m         \u001b[39m# Plot features using scatter plot\u001b[39;00m\n\u001b[0;32m     15\u001b[0m         plt\u001b[39m.\u001b[39mfigure()\n",
      "File \u001b[1;32mc:\\Users\\Adri\\PythonEnv\\datasci_classification\\lib\\site-packages\\seaborn\\axisgrid.py:2114\u001b[0m, in \u001b[0;36mpairplot\u001b[1;34m(data, hue, hue_order, palette, vars, x_vars, y_vars, kind, diag_kind, markers, height, aspect, corner, dropna, plot_kws, diag_kws, grid_kws, size)\u001b[0m\n\u001b[0;32m   2112\u001b[0m \u001b[39m# Set up the PairGrid\u001b[39;00m\n\u001b[0;32m   2113\u001b[0m grid_kws\u001b[39m.\u001b[39msetdefault(\u001b[39m\"\u001b[39m\u001b[39mdiag_sharey\u001b[39m\u001b[39m\"\u001b[39m, diag_kind \u001b[39m==\u001b[39m \u001b[39m\"\u001b[39m\u001b[39mhist\u001b[39m\u001b[39m\"\u001b[39m)\n\u001b[1;32m-> 2114\u001b[0m grid \u001b[39m=\u001b[39m PairGrid(data, \u001b[39mvars\u001b[39m\u001b[39m=\u001b[39m\u001b[39mvars\u001b[39m, x_vars\u001b[39m=\u001b[39mx_vars, y_vars\u001b[39m=\u001b[39my_vars, hue\u001b[39m=\u001b[39mhue,\n\u001b[0;32m   2115\u001b[0m                 hue_order\u001b[39m=\u001b[39mhue_order, palette\u001b[39m=\u001b[39mpalette, corner\u001b[39m=\u001b[39mcorner,\n\u001b[0;32m   2116\u001b[0m                 height\u001b[39m=\u001b[39mheight, aspect\u001b[39m=\u001b[39maspect, dropna\u001b[39m=\u001b[39mdropna, \u001b[39m*\u001b[39m\u001b[39m*\u001b[39mgrid_kws)\n\u001b[0;32m   2118\u001b[0m \u001b[39m# Add the markers here as PairGrid has figured out how many levels of the\u001b[39;00m\n\u001b[0;32m   2119\u001b[0m \u001b[39m# hue variable are needed and we don't want to duplicate that process\u001b[39;00m\n\u001b[0;32m   2120\u001b[0m \u001b[39mif\u001b[39;00m markers \u001b[39mis\u001b[39;00m \u001b[39mnot\u001b[39;00m \u001b[39mNone\u001b[39;00m:\n",
      "File \u001b[1;32mc:\\Users\\Adri\\PythonEnv\\datasci_classification\\lib\\site-packages\\seaborn\\axisgrid.py:1245\u001b[0m, in \u001b[0;36mPairGrid.__init__\u001b[1;34m(self, data, hue, vars, x_vars, y_vars, hue_order, palette, hue_kws, corner, diag_sharey, height, aspect, layout_pad, despine, dropna)\u001b[0m\n\u001b[0;32m   1242\u001b[0m \u001b[39msuper\u001b[39m()\u001b[39m.\u001b[39m\u001b[39m__init__\u001b[39m()\n\u001b[0;32m   1244\u001b[0m \u001b[39m# Sort out the variables that define the grid\u001b[39;00m\n\u001b[1;32m-> 1245\u001b[0m numeric_cols \u001b[39m=\u001b[39m \u001b[39mself\u001b[39;49m\u001b[39m.\u001b[39;49m_find_numeric_cols(data)\n\u001b[0;32m   1246\u001b[0m \u001b[39mif\u001b[39;00m hue \u001b[39min\u001b[39;00m numeric_cols:\n\u001b[0;32m   1247\u001b[0m     numeric_cols\u001b[39m.\u001b[39mremove(hue)\n",
      "File \u001b[1;32mc:\\Users\\Adri\\PythonEnv\\datasci_classification\\lib\\site-packages\\seaborn\\axisgrid.py:1668\u001b[0m, in \u001b[0;36mPairGrid._find_numeric_cols\u001b[1;34m(self, data)\u001b[0m\n\u001b[0;32m   1666\u001b[0m numeric_cols \u001b[39m=\u001b[39m []\n\u001b[0;32m   1667\u001b[0m \u001b[39mfor\u001b[39;00m col \u001b[39min\u001b[39;00m data:\n\u001b[1;32m-> 1668\u001b[0m     \u001b[39mif\u001b[39;00m variable_type(data[col]) \u001b[39m==\u001b[39m \u001b[39m\"\u001b[39m\u001b[39mnumeric\u001b[39m\u001b[39m\"\u001b[39m:\n\u001b[0;32m   1669\u001b[0m         numeric_cols\u001b[39m.\u001b[39mappend(col)\n\u001b[0;32m   1670\u001b[0m \u001b[39mreturn\u001b[39;00m numeric_cols\n",
      "File \u001b[1;32mc:\\Users\\Adri\\PythonEnv\\datasci_classification\\lib\\site-packages\\seaborn\\_oldcore.py:1498\u001b[0m, in \u001b[0;36mvariable_type\u001b[1;34m(vector, boolean_type)\u001b[0m\n\u001b[0;32m   1474\u001b[0m \u001b[39m\u001b[39m\u001b[39m\"\"\"\u001b[39;00m\n\u001b[0;32m   1475\u001b[0m \u001b[39mDetermine whether a vector contains numeric, categorical, or datetime data.\u001b[39;00m\n\u001b[0;32m   1476\u001b[0m \n\u001b[1;32m   (...)\u001b[0m\n\u001b[0;32m   1494\u001b[0m \u001b[39m    Name identifying the type of data in the vector.\u001b[39;00m\n\u001b[0;32m   1495\u001b[0m \u001b[39m\"\"\"\u001b[39;00m\n\u001b[0;32m   1497\u001b[0m \u001b[39m# If a categorical dtype is set, infer categorical\u001b[39;00m\n\u001b[1;32m-> 1498\u001b[0m \u001b[39mif\u001b[39;00m pd\u001b[39m.\u001b[39;49mapi\u001b[39m.\u001b[39;49mtypes\u001b[39m.\u001b[39;49mis_categorical_dtype(vector):\n\u001b[0;32m   1499\u001b[0m     \u001b[39mreturn\u001b[39;00m VariableType(\u001b[39m\"\u001b[39m\u001b[39mcategorical\u001b[39m\u001b[39m\"\u001b[39m)\n\u001b[0;32m   1501\u001b[0m \u001b[39m# Special-case all-na data, which is always \"numeric\"\u001b[39;00m\n",
      "File \u001b[1;32mc:\\Users\\Adri\\PythonEnv\\datasci_classification\\lib\\site-packages\\pandas\\core\\dtypes\\common.py:499\u001b[0m, in \u001b[0;36mis_categorical_dtype\u001b[1;34m(arr_or_dtype)\u001b[0m\n\u001b[0;32m    470\u001b[0m \u001b[39m\u001b[39m\u001b[39m\"\"\"\u001b[39;00m\n\u001b[0;32m    471\u001b[0m \u001b[39mCheck whether an array-like or dtype is of the Categorical dtype.\u001b[39;00m\n\u001b[0;32m    472\u001b[0m \n\u001b[1;32m   (...)\u001b[0m\n\u001b[0;32m    496\u001b[0m \u001b[39mTrue\u001b[39;00m\n\u001b[0;32m    497\u001b[0m \u001b[39m\"\"\"\u001b[39;00m\n\u001b[0;32m    498\u001b[0m \u001b[39m# GH#52527\u001b[39;00m\n\u001b[1;32m--> 499\u001b[0m warnings\u001b[39m.\u001b[39;49mwarn(\n\u001b[0;32m    500\u001b[0m     \u001b[39m\"\u001b[39;49m\u001b[39mis_categorical_dtype is deprecated and will be removed in a future \u001b[39;49m\u001b[39m\"\u001b[39;49m\n\u001b[0;32m    501\u001b[0m     \u001b[39m\"\u001b[39;49m\u001b[39mversion. Use isinstance(dtype, CategoricalDtype) instead\u001b[39;49m\u001b[39m\"\u001b[39;49m,\n\u001b[0;32m    502\u001b[0m     \u001b[39mFutureWarning\u001b[39;49;00m,\n\u001b[0;32m    503\u001b[0m     stacklevel\u001b[39m=\u001b[39;49mfind_stack_level(),\n\u001b[0;32m    504\u001b[0m )\n\u001b[0;32m    505\u001b[0m \u001b[39mif\u001b[39;00m \u001b[39misinstance\u001b[39m(arr_or_dtype, ExtensionDtype):\n\u001b[0;32m    506\u001b[0m     \u001b[39m# GH#33400 fastpath for dtype object\u001b[39;00m\n\u001b[0;32m    507\u001b[0m     \u001b[39mreturn\u001b[39;00m arr_or_dtype\u001b[39m.\u001b[39mname \u001b[39m==\u001b[39m \u001b[39m\"\u001b[39m\u001b[39mcategory\u001b[39m\u001b[39m\"\u001b[39m\n",
      "\u001b[1;31mFutureWarning\u001b[0m: is_categorical_dtype is deprecated and will be removed in a future version. Use isinstance(dtype, CategoricalDtype) instead"
     ]
    },
    {
     "data": {
      "text/plain": [
       "<Figure size 640x480 with 0 Axes>"
      ]
     },
     "metadata": {},
     "output_type": "display_data"
    }
   ],
   "source": [
    "# Plot data features by label\n",
    "plot_features(df_data)"
   ]
  },
  {
   "cell_type": "markdown",
   "metadata": {},
   "source": [
    "The analysis of the given dataset reveals that it is composed of four distinct time series, each being sampled at different frequencies. The time series are mutually exclusive, meaning that at each time instant, only one time series is being sampled. The goal is to determine which time series will be sampled at a given time instant. Upon examining the patterns displayed by the data points in each class, it becomes evident that classes 'Fizz', 'Buzz', and 'FizzBuzz' are sampled at regular intervals, whereas class 'None' lacks a clear pattern. This leads to the inference that the numbers have been categorized based on their sampling frequency. Since periodicity is observed in the time series, information concerning their frequencies can be extracted from the data. Instead of directly dealing with frequency, a focus is placed on time periods. Given the presence of multiple periods within the time series, the smallest common periods that are shared among them are going to be identified.\n",
    "\n",
    "In order to improve the accuracy of the classification model, it would be beneficial to calculate a feature that captures information on the periods of each class. This would help to better distinguish between the different classes and enhance the overall performance of the model."
   ]
  },
  {
   "cell_type": "markdown",
   "metadata": {},
   "source": [
    "## Data transformation\n",
    "\n",
    "In the process of building the classification model, data transformation is necessary to create features that can be utilized by the models. Additionally, some new features may be generated. While each model has specific data requirements, there is a common stage of data transformation that is generally applied. This stage involves the following steps:\n",
    "\n",
    "- Adding new features by transforming original data.\n",
    "- Normalizing features to ensure consistency and uniformity in their scales."
   ]
  },
  {
   "cell_type": "code",
   "execution_count": null,
   "metadata": {},
   "outputs": [],
   "source": [
    "features, labels = loader.load_data('original', set_length, return_df=False)"
   ]
  },
  {
   "cell_type": "markdown",
   "metadata": {},
   "source": [
    "In the following code, a transformation will be executed to determine whether a time instant is considered as part of a time series sample. First, the smallest periods (greater than one) for each time series will be calculated, and to indicate the alignment with a specific time series, the modulus of each time instant will be calculated with respect to all periods derived from all time series."
   ]
  },
  {
   "cell_type": "code",
   "execution_count": null,
   "metadata": {},
   "outputs": [
    {
     "name": "stdout",
     "output_type": "stream",
     "text": [
      "<class 'pandas.core.frame.DataFrame'>\n",
      "RangeIndex: 100 entries, 0 to 99\n",
      "Data columns (total 3 columns):\n",
      " #   Column       Non-Null Count  Dtype\n",
      "---  ------       --------------  -----\n",
      " 0   number_mod3  100 non-null    int32\n",
      " 1   number_mod5  100 non-null    int32\n",
      " 2   label        100 non-null    int32\n",
      "dtypes: int32(3)\n",
      "memory usage: 1.3 KB\n"
     ]
    },
    {
     "data": {
      "text/plain": [
       "None"
      ]
     },
     "metadata": {},
     "output_type": "display_data"
    },
    {
     "data": {
      "text/html": [
       "<div>\n",
       "<style scoped>\n",
       "    .dataframe tbody tr th:only-of-type {\n",
       "        vertical-align: middle;\n",
       "    }\n",
       "\n",
       "    .dataframe tbody tr th {\n",
       "        vertical-align: top;\n",
       "    }\n",
       "\n",
       "    .dataframe thead th {\n",
       "        text-align: right;\n",
       "    }\n",
       "</style>\n",
       "<table border=\"1\" class=\"dataframe\">\n",
       "  <thead>\n",
       "    <tr style=\"text-align: right;\">\n",
       "      <th></th>\n",
       "      <th>number_mod3</th>\n",
       "      <th>number_mod5</th>\n",
       "      <th>label</th>\n",
       "    </tr>\n",
       "  </thead>\n",
       "  <tbody>\n",
       "    <tr>\n",
       "      <th>0</th>\n",
       "      <td>1</td>\n",
       "      <td>1</td>\n",
       "      <td>3</td>\n",
       "    </tr>\n",
       "    <tr>\n",
       "      <th>1</th>\n",
       "      <td>2</td>\n",
       "      <td>2</td>\n",
       "      <td>3</td>\n",
       "    </tr>\n",
       "    <tr>\n",
       "      <th>2</th>\n",
       "      <td>0</td>\n",
       "      <td>3</td>\n",
       "      <td>1</td>\n",
       "    </tr>\n",
       "    <tr>\n",
       "      <th>3</th>\n",
       "      <td>1</td>\n",
       "      <td>4</td>\n",
       "      <td>3</td>\n",
       "    </tr>\n",
       "    <tr>\n",
       "      <th>4</th>\n",
       "      <td>2</td>\n",
       "      <td>0</td>\n",
       "      <td>0</td>\n",
       "    </tr>\n",
       "  </tbody>\n",
       "</table>\n",
       "</div>"
      ],
      "text/plain": [
       "   number_mod3  number_mod5  label\n",
       "0            1            1      3\n",
       "1            2            2      3\n",
       "2            0            3      1\n",
       "3            1            4      3\n",
       "4            2            0      0"
      ]
     },
     "metadata": {},
     "output_type": "display_data"
    }
   ],
   "source": [
    "from fizzbuzz_classification.data_preprocessing import transform_series_to_periods\n",
    "\n",
    "df_period, period_estimators = transform_series_to_periods(df_data, return_estimator=True)\n",
    "df_period['label'] = df_data['label']\n",
    "display(df_period.info())\n",
    "display(df_period.head(5))"
   ]
  },
  {
   "cell_type": "code",
   "execution_count": null,
   "metadata": {},
   "outputs": [
    {
     "name": "stderr",
     "output_type": "stream",
     "text": [
      "c:\\Users\\Adri\\PythonEnv\\datasci_classification\\lib\\site-packages\\seaborn\\_oldcore.py:1498: FutureWarning: is_categorical_dtype is deprecated and will be removed in a future version. Use isinstance(dtype, CategoricalDtype) instead\n",
      "  if pd.api.types.is_categorical_dtype(vector):\n",
      "c:\\Users\\Adri\\PythonEnv\\datasci_classification\\lib\\site-packages\\seaborn\\_oldcore.py:1498: FutureWarning: is_categorical_dtype is deprecated and will be removed in a future version. Use isinstance(dtype, CategoricalDtype) instead\n",
      "  if pd.api.types.is_categorical_dtype(vector):\n",
      "c:\\Users\\Adri\\PythonEnv\\datasci_classification\\lib\\site-packages\\seaborn\\_oldcore.py:1498: FutureWarning: is_categorical_dtype is deprecated and will be removed in a future version. Use isinstance(dtype, CategoricalDtype) instead\n",
      "  if pd.api.types.is_categorical_dtype(vector):\n",
      "c:\\Users\\Adri\\PythonEnv\\datasci_classification\\lib\\site-packages\\seaborn\\_oldcore.py:1498: FutureWarning: is_categorical_dtype is deprecated and will be removed in a future version. Use isinstance(dtype, CategoricalDtype) instead\n",
      "  if pd.api.types.is_categorical_dtype(vector):\n",
      "c:\\Users\\Adri\\PythonEnv\\datasci_classification\\lib\\site-packages\\seaborn\\_oldcore.py:1498: FutureWarning: is_categorical_dtype is deprecated and will be removed in a future version. Use isinstance(dtype, CategoricalDtype) instead\n",
      "  if pd.api.types.is_categorical_dtype(vector):\n",
      "c:\\Users\\Adri\\PythonEnv\\datasci_classification\\lib\\site-packages\\seaborn\\_oldcore.py:1498: FutureWarning: is_categorical_dtype is deprecated and will be removed in a future version. Use isinstance(dtype, CategoricalDtype) instead\n",
      "  if pd.api.types.is_categorical_dtype(vector):\n",
      "c:\\Users\\Adri\\PythonEnv\\datasci_classification\\lib\\site-packages\\seaborn\\_oldcore.py:1119: FutureWarning: use_inf_as_na option is deprecated and will be removed in a future version. Convert inf values to NaN before operating instead.\n",
      "  with pd.option_context('mode.use_inf_as_na', True):\n",
      "c:\\Users\\Adri\\PythonEnv\\datasci_classification\\lib\\site-packages\\seaborn\\_oldcore.py:1498: FutureWarning: is_categorical_dtype is deprecated and will be removed in a future version. Use isinstance(dtype, CategoricalDtype) instead\n",
      "  if pd.api.types.is_categorical_dtype(vector):\n",
      "c:\\Users\\Adri\\PythonEnv\\datasci_classification\\lib\\site-packages\\seaborn\\_oldcore.py:1498: FutureWarning: is_categorical_dtype is deprecated and will be removed in a future version. Use isinstance(dtype, CategoricalDtype) instead\n",
      "  if pd.api.types.is_categorical_dtype(vector):\n",
      "c:\\Users\\Adri\\PythonEnv\\datasci_classification\\lib\\site-packages\\seaborn\\_oldcore.py:1119: FutureWarning: use_inf_as_na option is deprecated and will be removed in a future version. Convert inf values to NaN before operating instead.\n",
      "  with pd.option_context('mode.use_inf_as_na', True):\n",
      "c:\\Users\\Adri\\PythonEnv\\datasci_classification\\lib\\site-packages\\seaborn\\_oldcore.py:1498: FutureWarning: is_categorical_dtype is deprecated and will be removed in a future version. Use isinstance(dtype, CategoricalDtype) instead\n",
      "  if pd.api.types.is_categorical_dtype(vector):\n",
      "c:\\Users\\Adri\\PythonEnv\\datasci_classification\\lib\\site-packages\\seaborn\\_oldcore.py:1498: FutureWarning: is_categorical_dtype is deprecated and will be removed in a future version. Use isinstance(dtype, CategoricalDtype) instead\n",
      "  if pd.api.types.is_categorical_dtype(vector):\n",
      "c:\\Users\\Adri\\PythonEnv\\datasci_classification\\lib\\site-packages\\seaborn\\_oldcore.py:1498: FutureWarning: is_categorical_dtype is deprecated and will be removed in a future version. Use isinstance(dtype, CategoricalDtype) instead\n",
      "  if pd.api.types.is_categorical_dtype(vector):\n",
      "c:\\Users\\Adri\\PythonEnv\\datasci_classification\\lib\\site-packages\\seaborn\\_oldcore.py:1498: FutureWarning: is_categorical_dtype is deprecated and will be removed in a future version. Use isinstance(dtype, CategoricalDtype) instead\n",
      "  if pd.api.types.is_categorical_dtype(vector):\n",
      "c:\\Users\\Adri\\PythonEnv\\datasci_classification\\lib\\site-packages\\seaborn\\_oldcore.py:1498: FutureWarning: is_categorical_dtype is deprecated and will be removed in a future version. Use isinstance(dtype, CategoricalDtype) instead\n",
      "  if pd.api.types.is_categorical_dtype(vector):\n",
      "c:\\Users\\Adri\\PythonEnv\\datasci_classification\\lib\\site-packages\\seaborn\\_oldcore.py:1498: FutureWarning: is_categorical_dtype is deprecated and will be removed in a future version. Use isinstance(dtype, CategoricalDtype) instead\n",
      "  if pd.api.types.is_categorical_dtype(vector):\n"
     ]
    },
    {
     "data": {
      "text/plain": [
       "<Figure size 640x480 with 0 Axes>"
      ]
     },
     "metadata": {},
     "output_type": "display_data"
    },
    {
     "data": {
      "image/png": "[encoded data removed]",
      "text/plain": [
       "<Figure size 558.875x500 with 6 Axes>"
      ]
     },
     "metadata": {},
     "output_type": "display_data"
    },
    {
     "data": {
      "text/plain": [
       "<Figure size 640x480 with 0 Axes>"
      ]
     },
     "metadata": {},
     "output_type": "display_data"
    }
   ],
   "source": [
    "# Plot data features by label\n",
    "plot_features(df_period)"
   ]
  },
  {
   "cell_type": "code",
   "execution_count": null,
   "metadata": {},
   "outputs": [],
   "source": [
    "# Save new features dataframe\n",
    "loader.save_data(df_period, 'preprocessed', set_length)"
   ]
  },
  {
   "cell_type": "markdown",
   "metadata": {},
   "source": [
    "Partial Conclusions: The selected features for the classification model include frequency features and natural numbers. During the modeling phase, both sets of features will be incorporated to assess the feasibility and effectiveness of their inclusion in feature calculations."
   ]
  },
  {
   "cell_type": "markdown",
   "metadata": {},
   "source": [
    "## Model creation\n",
    "\n",
    "In this section, the chosen models are fitted to classify the numbers in order to identify models with higher performance. To facilitate this task, we begin by importing necessary packages."
   ]
  },
  {
   "cell_type": "code",
   "execution_count": null,
   "metadata": {},
   "outputs": [],
   "source": [
    "# Load larger dataset\n",
    "set_length = 1000\n",
    "loader.generate_data(set_length)\n",
    "features, labels = loader.load_data('original', set_length, return_df=False)"
   ]
  },
  {
   "cell_type": "code",
   "execution_count": null,
   "metadata": {},
   "outputs": [],
   "source": [
    "# Transform labels to integer\n",
    "from sklearn.preprocessing import LabelEncoder\n",
    "encoder = LabelEncoder()\n",
    "labels = encoder.fit_transform(labels)"
   ]
  },
  {
   "cell_type": "code",
   "execution_count": null,
   "metadata": {},
   "outputs": [],
   "source": [
    "from fizzbuzz_classification.modeling import tune_hyperparam, train_and_test_classifier, test_estimator, weights_for_imbalance_classes\n",
    "from sklearn.model_selection import train_test_split\n",
    "\n",
    "from sklearn.svm import SVC"
   ]
  },
  {
   "cell_type": "markdown",
   "metadata": {},
   "source": [
    "### Model structures\n",
    "\n",
    "In model creation, experiment were design and executed with different models structures to find the best fit for the problem. These models are:\n",
    "- Support Vector Machine"
   ]
  },
  {
   "cell_type": "markdown",
   "metadata": {},
   "source": [
    "#### SVM"
   ]
  },
  {
   "cell_type": "code",
   "execution_count": null,
   "metadata": {},
   "outputs": [],
   "source": [
    "# Initialize an SVM classifier\n",
    "svm_classifier = SVC(kernel='linear', C=1.0)"
   ]
  },
  {
   "cell_type": "markdown",
   "metadata": {},
   "source": [
    "### Model training\n",
    "\n",
    "In this step, the train, test and validation sets are created."
   ]
  },
  {
   "cell_type": "markdown",
   "metadata": {},
   "source": [
    "#### Imbalance classes"
   ]
  },
  {
   "cell_type": "code",
   "execution_count": null,
   "metadata": {},
   "outputs": [],
   "source": [
    "# Using weights to approach imbalance class problem\n",
    "weights = weights_for_imbalance_classes(labels)"
   ]
  },
  {
   "cell_type": "code",
   "execution_count": null,
   "metadata": {},
   "outputs": [],
   "source": [
    "# Split the dataset into training and testing sets\n",
    "X_train, X_test, y_train, y_test, weights_train, weights_test = train_test_split(features, labels, weights, test_size=0.2, random_state=42)"
   ]
  },
  {
   "cell_type": "code",
   "execution_count": null,
   "metadata": {},
   "outputs": [],
   "source": [
    "# Set fit parameters\n",
    "fit_params = {'sample_weight': weights_train}"
   ]
  },
  {
   "cell_type": "code",
   "execution_count": null,
   "metadata": {},
   "outputs": [],
   "source": [
    "# Set saving directory for models\n",
    "model_save_dir = os.path.join(os.getcwd(), 'fizzbuzz_classification/models/')\n",
    "if not os.path.exists(model_save_dir):\n",
    "    os.mkdir(model_save_dir)"
   ]
  },
  {
   "cell_type": "markdown",
   "metadata": {},
   "source": [
    "##### Train and test SVM classifier"
   ]
  },
  {
   "cell_type": "code",
   "execution_count": null,
   "metadata": {},
   "outputs": [],
   "source": [
    "# Define the hyperparameter grid to search\n",
    "# param_grid = {\n",
    "#     'C': [0.1, 1, 10],\n",
    "#     'kernel': ['linear', 'rbf', 'poly'],\n",
    "#     'gamma': [0.1, 1, 'scale', 'auto']\n",
    "# }\n",
    "param_grid = {\n",
    "    'C': [0.1, 1],\n",
    "    'kernel': ['linear']\n",
    "}\n",
    "\n",
    "params = tune_hyperparam(svm_classifier, X_train, y_train, X_test, y_test, param_grid, 5, 3, fit_params)"
   ]
  },
  {
   "cell_type": "code",
   "execution_count": null,
   "metadata": {},
   "outputs": [
    {
     "name": "stdout",
     "output_type": "stream",
     "text": [
      "Loading model\n",
      "Testing model\n",
      "Evaluate model\n",
      "Testing model\n",
      "Evaluate model\n",
      "Accuracy: 16.50%\n",
      "\n",
      "Classification Report:\n",
      "               precision    recall  f1-score   support\n",
      "\n",
      "           0       0.13      0.48      0.21        29\n",
      "           1       0.20      0.36      0.26        53\n",
      "           2       0.00      0.00      0.00        21\n",
      "           3       0.00      0.00      0.00        97\n",
      "\n",
      "    accuracy                           0.17       200\n",
      "   macro avg       0.08      0.21      0.12       200\n",
      "weighted avg       0.07      0.17      0.10       200\n",
      "\n"
     ]
    },
    {
     "name": "stderr",
     "output_type": "stream",
     "text": [
      "c:\\Users\\Adri\\PythonEnv\\datasci_classification\\lib\\site-packages\\sklearn\\metrics\\_classification.py:1469: UndefinedMetricWarning: Precision and F-score are ill-defined and being set to 0.0 in labels with no predicted samples. Use `zero_division` parameter to control this behavior.\n",
      "  _warn_prf(average, modifier, msg_start, len(result))\n",
      "c:\\Users\\Adri\\PythonEnv\\datasci_classification\\lib\\site-packages\\sklearn\\metrics\\_classification.py:1469: UndefinedMetricWarning: Precision and F-score are ill-defined and being set to 0.0 in labels with no predicted samples. Use `zero_division` parameter to control this behavior.\n",
      "  _warn_prf(average, modifier, msg_start, len(result))\n",
      "c:\\Users\\Adri\\PythonEnv\\datasci_classification\\lib\\site-packages\\sklearn\\metrics\\_classification.py:1469: UndefinedMetricWarning: Precision and F-score are ill-defined and being set to 0.0 in labels with no predicted samples. Use `zero_division` parameter to control this behavior.\n",
      "  _warn_prf(average, modifier, msg_start, len(result))\n"
     ]
    },
    {
     "data": {
      "image/png": "[encoded data removed]",
      "text/plain": [
       "<Figure size 640x480 with 2 Axes>"
      ]
     },
     "metadata": {},
     "output_type": "display_data"
    }
   ],
   "source": [
    "# Train and test svm classifier\n",
    "svm_classifier, train_accuracy, test_accuracy = train_and_test_classifier(svm_classifier, X_train, y_train, X_test, y_test, params, fit_params)"
   ]
  },
  {
   "cell_type": "code",
   "execution_count": null,
   "metadata": {},
   "outputs": [
    {
     "name": "stdout",
     "output_type": "stream",
     "text": [
      "Testing model\n",
      "Evaluate model\n",
      "Accuracy: 27.00%\n",
      "\n",
      "Classification Report:\n",
      "               precision    recall  f1-score   support\n",
      "\n",
      "           0       0.00      0.00      0.00        14\n",
      "           1       0.27      1.00      0.43        27\n",
      "           2       0.00      0.00      0.00         6\n",
      "           3       0.00      0.00      0.00        53\n",
      "\n",
      "    accuracy                           0.27       100\n",
      "   macro avg       0.07      0.25      0.11       100\n",
      "weighted avg       0.07      0.27      0.11       100\n",
      "\n"
     ]
    },
    {
     "name": "stderr",
     "output_type": "stream",
     "text": [
      "c:\\Users\\Adri\\PythonEnv\\datasci_classification\\lib\\site-packages\\sklearn\\metrics\\_classification.py:1469: UndefinedMetricWarning: Precision and F-score are ill-defined and being set to 0.0 in labels with no predicted samples. Use `zero_division` parameter to control this behavior.\n",
      "  _warn_prf(average, modifier, msg_start, len(result))\n",
      "c:\\Users\\Adri\\PythonEnv\\datasci_classification\\lib\\site-packages\\sklearn\\metrics\\_classification.py:1469: UndefinedMetricWarning: Precision and F-score are ill-defined and being set to 0.0 in labels with no predicted samples. Use `zero_division` parameter to control this behavior.\n",
      "  _warn_prf(average, modifier, msg_start, len(result))\n",
      "c:\\Users\\Adri\\PythonEnv\\datasci_classification\\lib\\site-packages\\sklearn\\metrics\\_classification.py:1469: UndefinedMetricWarning: Precision and F-score are ill-defined and being set to 0.0 in labels with no predicted samples. Use `zero_division` parameter to control this behavior.\n",
      "  _warn_prf(average, modifier, msg_start, len(result))\n"
     ]
    },
    {
     "data": {
      "text/plain": [
       "0.27"
      ]
     },
     "execution_count": 19,
     "metadata": {},
     "output_type": "execute_result"
    },
    {
     "data": {
      "image/png": "[encoded data removed]",
      "text/plain": [
       "<Figure size 640x480 with 2 Axes>"
      ]
     },
     "metadata": {},
     "output_type": "display_data"
    }
   ],
   "source": [
    "set_length = 100\n",
    "features, labels = loader.load_data('original', set_length, return_df=False)\n",
    "labels = encoder.transform(labels)\n",
    "test_estimator(svm_classifier, features, labels)"
   ]
  },
  {
   "cell_type": "markdown",
   "metadata": {},
   "source": [
    "## Model deployment\n",
    "\n",
    "Model deployment for classification using scikit-learn's pipeline offers an efficient way to seamlessly transition a trained machine learning model into production. This integrated approach simplifies data preprocessing, feature engineering, and model inference, making it easier to maintain and scale the deployed system."
   ]
  },
  {
   "cell_type": "code",
   "execution_count": null,
   "metadata": {},
   "outputs": [],
   "source": [
    "# Import pipeline from sklearn\n",
    "from sklearn.pipeline import Pipeline\n",
    "\n",
    "# Add preprocessing and classification steps to a single pipeline\n",
    "pipe = Pipeline(steps=[('classifier', svm_classifier)])\n",
    "# pipe = pipe.fit(X_train, y_train, **fit_params)\n",
    "y_pred = pipe.predict(X_test)"
   ]
  },
  {
   "cell_type": "code",
   "execution_count": null,
   "metadata": {},
   "outputs": [
    {
     "data": {
      "text/plain": [
       "array([0, 0, 0, 0, 1, 0, 0, 0, 0, 1, 0, 1, 0, 0, 0, 0, 1, 0, 0, 1, 0, 1,\n",
       "       1, 0, 1, 1, 1, 0, 0, 0, 1, 1, 0, 1, 1, 1, 0, 0, 0, 1, 1, 1, 1, 0,\n",
       "       1, 1, 0, 0, 1, 0, 0, 0, 1, 0, 1, 1, 0, 1, 1, 0, 1, 1, 0, 1, 0, 0,\n",
       "       0, 0, 1, 0, 1, 1, 0, 0, 1, 1, 0, 1, 0, 1, 0, 1, 1, 1, 1, 0, 0, 0,\n",
       "       0, 1, 1, 1, 0, 1, 0, 1, 0, 1, 1, 0, 0, 1, 0, 1, 0, 0, 0, 0, 1, 0,\n",
       "       0, 0, 0, 0, 1, 1, 1, 0, 0, 1, 0, 1, 0, 1, 1, 0, 0, 1, 0, 0, 0, 0,\n",
       "       1, 0, 0, 1, 1, 1, 1, 1, 1, 1, 0, 1, 0, 0, 0, 1, 0, 1, 0, 1, 0, 1,\n",
       "       0, 1, 1, 0, 1, 0, 0, 0, 0, 0, 0, 0, 1, 0, 1, 1, 1, 1, 1, 0, 1, 1,\n",
       "       1, 1, 0, 0, 1, 0, 1, 0, 0, 1, 1, 1, 0, 0, 0, 0, 0, 1, 1, 1, 1, 1,\n",
       "       0, 1])"
      ]
     },
     "execution_count": 21,
     "metadata": {},
     "output_type": "execute_result"
    }
   ],
   "source": [
    "y_pred"
   ]
  }
 ],
 "metadata": {
  "kernelspec": {
   "display_name": "datasci_classification",
   "language": "python",
   "name": "python3"
  },
  "language_info": {
   "codemirror_mode": {
    "name": "ipython",
    "version": 3
   },
   "file_extension": ".py",
   "mimetype": "text/x-python",
   "name": "python",
   "nbconvert_exporter": "python",
   "pygments_lexer": "ipython3",
   "version": "3.10.5"
  },
  "orig_nbformat": 4
 },
 "nbformat": 4,
 "nbformat_minor": 2
}
